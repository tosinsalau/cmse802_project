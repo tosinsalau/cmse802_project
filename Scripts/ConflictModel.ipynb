{
 "cells": [
  {
   "cell_type": "code",
   "execution_count": null,
   "metadata": {},
   "outputs": [],
   "source": [
    "import jsonlines\n",
    "\n",
    "with jsonlines.open('annotations.jsonl') as f:\n",
    "    annotations = list(f)\n",
    "    print(annotations)  "
   ]
  },
  {
   "cell_type": "code",
   "execution_count": 4,
   "metadata": {},
   "outputs": [
    {
     "data": {
      "text/plain": [
       "{'text': 'The Browning 50 Caliber Machine Guns (listed by government as Brandy Machine Guns) displayed on Saturday, August 22, 2009 in Yenagoa, Bayelsa state were identified by Cameroonian Military Intelligence as suspected weapons seized after an attack on November 12, 2007 in its territorial waters by unknown gun men from Nigeria believed to be men of the Nigerian army in which 21 Cameroonian gendarmes were killedWe hope that the Nigerian military whom we accused recently of providing its weapons for display at that shameful disarmament ceremony will allow an independent international armament expert in the presence of both Cameroonian and Nigerian officials to examine the Browning weapons in question to determine their originMEND has always called for a proper peace and disarmament process to avoid this sort of embarrassing situation where fraud, rent-a-crowd and monetary inducement is now a part of an amnesty charadeIf the Nigerian Government had followed the recommended UN disarmament and weapons destruction protocol, they would have a set of serial numbers of all weapons handed in and these numbers could be checked to track the provenance of the weapons and ensure the required chain of custodyWe doubt any such list of serial numbers will emerge and the chain of custody cannot be verified, thus the current disarmament process has no integritySimilarly, the Federal Government Inter Agency Coordinating Committee on Amnesty overseeing the implementation of the amnesty states that no funds have been paid to those who have surrendered nor for any weaponsIt is truly amazing that Dr Timiebi Koripamo, the Coordinating Committee media coordinator who made these assertions actually expects the public and officials to believe such a blatant fabricationThe public protests in Yenagoa on Friday, September 4, 2009 by over 200 boys who participated in the sham disarmament ceremony over non-payments of N10million each promised them has vindicated MENDIf it is found out that the weapons belong to Cameroon as strongly suspected, they should be returned back to the rightful owners with an apology and a proper investigation conducted to unravel the truth behind their display in Bayelsa state of Nigeria',\n",
       " 'meta': {'date': '2009-09-05T00:00:00Z',\n",
       "  'title': 'Cameroon Army Weapons at Bayelsa Disarmament Ceremony',\n",
       "  'source': {'Id': '',\n",
       "   'Name': 'Sahara Reporters - Online',\n",
       "   'ContentType': 'News'},\n",
       "  'score': 0.4999662042},\n",
       " '_input_hash': 192702683,\n",
       " '_task_hash': 985898796,\n",
       " 'label': 'RELEVANT',\n",
       " 'score': 0.4999662042,\n",
       " 'priority': 0.4999662042,\n",
       " 'spans': [],\n",
       " '_view_id': 'classification',\n",
       " 'answer': 'reject',\n",
       " '_timestamp': 1728512383,\n",
       " '_annotator_id': '2024-10-09_18-18-35',\n",
       " '_session_id': '2024-10-09_18-18-35'}"
      ]
     },
     "execution_count": 4,
     "metadata": {},
     "output_type": "execute_result"
    }
   ],
   "source": [
    "annotations[0]"
   ]
  },
  {
   "cell_type": "code",
   "execution_count": 6,
   "metadata": {},
   "outputs": [
    {
     "data": {
      "text/html": [
       "<div>\n",
       "<style scoped>\n",
       "    .dataframe tbody tr th:only-of-type {\n",
       "        vertical-align: middle;\n",
       "    }\n",
       "\n",
       "    .dataframe tbody tr th {\n",
       "        vertical-align: top;\n",
       "    }\n",
       "\n",
       "    .dataframe thead th {\n",
       "        text-align: right;\n",
       "    }\n",
       "</style>\n",
       "<table border=\"1\" class=\"dataframe\">\n",
       "  <thead>\n",
       "    <tr style=\"text-align: right;\">\n",
       "      <th></th>\n",
       "      <th>text</th>\n",
       "      <th>label</th>\n",
       "      <th>answer</th>\n",
       "    </tr>\n",
       "  </thead>\n",
       "  <tbody>\n",
       "    <tr>\n",
       "      <th>0</th>\n",
       "      <td>The Browning 50 Caliber Machine Guns (listed b...</td>\n",
       "      <td>RELEVANT</td>\n",
       "      <td>0</td>\n",
       "    </tr>\n",
       "    <tr>\n",
       "      <th>1</th>\n",
       "      <td>Former Nigerian dictator Ibrahim Badamasi Baba...</td>\n",
       "      <td>RELEVANT</td>\n",
       "      <td>0</td>\n",
       "    </tr>\n",
       "    <tr>\n",
       "      <th>2</th>\n",
       "      <td>Reuters reported that prominent military group...</td>\n",
       "      <td>RELEVANT</td>\n",
       "      <td>1</td>\n",
       "    </tr>\n",
       "    <tr>\n",
       "      <th>3</th>\n",
       "      <td>Larry Bowoto's left arm is still scarred and n...</td>\n",
       "      <td>RELEVANT</td>\n",
       "      <td>0</td>\n",
       "    </tr>\n",
       "    <tr>\n",
       "      <th>4</th>\n",
       "      <td>When President Donald Trump's national securit...</td>\n",
       "      <td>RELEVANT</td>\n",
       "      <td>0</td>\n",
       "    </tr>\n",
       "    <tr>\n",
       "      <th>...</th>\n",
       "      <td>...</td>\n",
       "      <td>...</td>\n",
       "      <td>...</td>\n",
       "    </tr>\n",
       "    <tr>\n",
       "      <th>1197</th>\n",
       "      <td>The Defence Headquarters (DHQ) stated on Monda...</td>\n",
       "      <td>RELEVANT</td>\n",
       "      <td>0</td>\n",
       "    </tr>\n",
       "    <tr>\n",
       "      <th>1198</th>\n",
       "      <td>Students of Federal College of Education (Tech...</td>\n",
       "      <td>RELEVANT</td>\n",
       "      <td>1</td>\n",
       "    </tr>\n",
       "    <tr>\n",
       "      <th>1199</th>\n",
       "      <td>The Jama'atu Ahlis Sunnah Lidda'awati Wal Jiha...</td>\n",
       "      <td>RELEVANT</td>\n",
       "      <td>0</td>\n",
       "    </tr>\n",
       "    <tr>\n",
       "      <th>1200</th>\n",
       "      <td>As families and friends of those who lost thei...</td>\n",
       "      <td>RELEVANT</td>\n",
       "      <td>0</td>\n",
       "    </tr>\n",
       "    <tr>\n",
       "      <th>1201</th>\n",
       "      <td>Global Information NetworkJune 5 (GIN) - A tur...</td>\n",
       "      <td>RELEVANT</td>\n",
       "      <td>0</td>\n",
       "    </tr>\n",
       "  </tbody>\n",
       "</table>\n",
       "<p>1202 rows × 3 columns</p>\n",
       "</div>"
      ],
      "text/plain": [
       "                                                   text     label  answer\n",
       "0     The Browning 50 Caliber Machine Guns (listed b...  RELEVANT       0\n",
       "1     Former Nigerian dictator Ibrahim Badamasi Baba...  RELEVANT       0\n",
       "2     Reuters reported that prominent military group...  RELEVANT       1\n",
       "3     Larry Bowoto's left arm is still scarred and n...  RELEVANT       0\n",
       "4     When President Donald Trump's national securit...  RELEVANT       0\n",
       "...                                                 ...       ...     ...\n",
       "1197  The Defence Headquarters (DHQ) stated on Monda...  RELEVANT       0\n",
       "1198  Students of Federal College of Education (Tech...  RELEVANT       1\n",
       "1199  The Jama'atu Ahlis Sunnah Lidda'awati Wal Jiha...  RELEVANT       0\n",
       "1200  As families and friends of those who lost thei...  RELEVANT       0\n",
       "1201  Global Information NetworkJune 5 (GIN) - A tur...  RELEVANT       0\n",
       "\n",
       "[1202 rows x 3 columns]"
      ]
     },
     "execution_count": 6,
     "metadata": {},
     "output_type": "execute_result"
    }
   ],
   "source": [
    "import pandas as pd\n",
    "\n",
    "formatted = []\n",
    "for ann in annotations:\n",
    "    if ann['answer'] == \"ignore\":\n",
    "        continue\n",
    "    answer = int(ann['answer'] == \"accept\")\n",
    "    d = {\"text\": ann[\"text\"],\n",
    "            \"label\": ann[\"label\"],\n",
    "            \"answer\": answer}\n",
    "    formatted.append(d)\n",
    "pd.DataFrame(formatted) "
   ]
  },
  {
   "cell_type": "code",
   "execution_count": null,
   "metadata": {},
   "outputs": [],
   "source": [
    "df = pd.DataFrame(formatted)"
   ]
  },
  {
   "cell_type": "code",
   "execution_count": null,
   "metadata": {},
   "outputs": [],
   "source": []
  }
 ],
 "metadata": {
  "kernelspec": {
   "display_name": "projecttayo",
   "language": "python",
   "name": "python3"
  },
  "language_info": {
   "codemirror_mode": {
    "name": "ipython",
    "version": 3
   },
   "file_extension": ".py",
   "mimetype": "text/x-python",
   "name": "python",
   "nbconvert_exporter": "python",
   "pygments_lexer": "ipython3",
   "version": "3.6.13"
  }
 },
 "nbformat": 4,
 "nbformat_minor": 2
}
